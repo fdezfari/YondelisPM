{
 "cells": [
  {
   "cell_type": "code",
   "execution_count": 110,
   "id": "44aa799a",
   "metadata": {},
   "outputs": [],
   "source": [
    "import escher\n",
    "from escher import Builder\n",
    "import pandas as pd\n",
    "#import cobra"
   ]
  },
  {
   "cell_type": "code",
   "execution_count": 111,
   "id": "0a859ce8",
   "metadata": {},
   "outputs": [],
   "source": [
    "#Lectura del fichero excel\n",
    "Sufijo_output='PM'\n",
    "archivo_PM = '/home/marco/Desktop/Yondelis-PM analisis/outputs/maint0.2/outPM/3_run_qMTA/Mean_ct_PM_vs_Mean_tt_PM_qMTA.xlsx'\n",
    "Hoja_PM='Mean_ct_PM_vs_Mean_tt_PM_b'\n",
    "Columna_reacciones_PM='omited'           # En realidad es después: rid\n",
    "Columna_Visualizar_PM_vref='total_flux_vres'  # En realidad es después: vref\n",
    "Columna_Visualizar_PM_vres='n_increase'       # En realidad es después: vres\n",
    "Columna_Visualizar_PM_var='increased'       # En realidad es después: variation\n",
    "\n",
    "\n",
    "df_PM = pd.read_excel(archivo_PM, sheet_name=Hoja_PM)\n",
    "\n",
    "#df_PM.describe()\n",
    "#escher.list_available_maps()"
   ]
  },
  {
   "cell_type": "code",
   "execution_count": 109,
   "id": "c425ee0f",
   "metadata": {},
   "outputs": [],
   "source": [
    "# PREFERENCIAS REACCIONES\n",
    "builder_vref.reaction_scale = [\n",
    "    { 'type': 'min', 'color': '#ffffff', 'size': 12 },\n",
    "    { 'type': 'median', 'color': '#fe9039', 'size': 20 },\n",
    "    { 'type': 'max', 'color': '#fe3939', 'size': 28 }\n",
    "]\n",
    "\n",
    "builder_vres.reaction_scale = [\n",
    "    { 'type': 'min', 'color': '#ffffff', 'size': 12 },\n",
    "    { 'type': 'median', 'color': '#fe9039', 'size': 20 },\n",
    "    { 'type': 'max', 'color': '#fe3939', 'size': 28 }\n",
    "]\n",
    "\n",
    "builder_var.reaction_scale = [\n",
    "    { 'type': 'min', 'color': '#ffffff', 'size': 12 },\n",
    "    { 'type': 'median', 'color': '#fe9039', 'size': 20 },\n",
    "    { 'type': 'max', 'color': '#fe3939', 'size': 28 }\n",
    "]"
   ]
  },
  {
   "cell_type": "code",
   "execution_count": 112,
   "id": "ee8c110a",
   "metadata": {},
   "outputs": [
    {
     "name": "stdout",
     "output_type": "stream",
     "text": [
      "Downloading Map from https://escher.github.io/1-0-0/6/maps/Homo%20sapiens/RECON1.Carbohydrate%20metabolism.json\n",
      "Downloading Model from https://escher.github.io/1-0-0/6/models/Homo%20sapiens/RECON1.json\n",
      "Downloading Map from https://escher.github.io/1-0-0/6/maps/Homo%20sapiens/RECON1.Carbohydrate%20metabolism.json\n",
      "Downloading Model from https://escher.github.io/1-0-0/6/models/Homo%20sapiens/RECON1.json\n",
      "Downloading Map from https://escher.github.io/1-0-0/6/maps/Homo%20sapiens/RECON1.Carbohydrate%20metabolism.json\n",
      "Downloading Model from https://escher.github.io/1-0-0/6/models/Homo%20sapiens/RECON1.json\n"
     ]
    }
   ],
   "source": [
    "# Carbohydrate metabolism\n",
    "MAPA='RECON1.Carbohydrate metabolism'\n",
    "builder_vref = Builder(\n",
    "    map_name=MAPA,\n",
    "    model_name='RECON1',\n",
    ")\n",
    "builder_vres = Builder(\n",
    "    map_name=MAPA,\n",
    "    model_name='RECON1',\n",
    ")\n",
    "builder_var = Builder(\n",
    "    map_name=MAPA,\n",
    "    model_name='RECON1',\n",
    ")\n",
    "builder_vref.reaction_data=dict(zip(df_PM[Columna_reacciones_PM],df_PM[Columna_Visualizar_PM_vref]))\n",
    "builder_vres.reaction_data=dict(zip(df_PM[Columna_reacciones_PM],df_PM[Columna_Visualizar_PM_vres]))\n",
    "builder_var.reaction_data=dict(zip(df_PM[Columna_reacciones_PM],df_PM[Columna_Visualizar_PM_var]))"
   ]
  },
  {
   "cell_type": "code",
   "execution_count": 113,
   "id": "97616e83",
   "metadata": {},
   "outputs": [
    {
     "data": {
      "application/vnd.jupyter.widget-view+json": {
       "model_id": "17e554c15d544e08bc21bc25e49d4871",
       "version_major": 2,
       "version_minor": 0
      },
      "text/plain": [
       "Builder(reaction_data={'[]': \"['ALDD20x', 'FKYNH', 'GLUTCOADHm', '3HAO', '3MOXTYROX', 'KYN3OX', 'LFORKYNHYD', …"
      ]
     },
     "metadata": {},
     "output_type": "display_data"
    }
   ],
   "source": [
    "builder_var"
   ]
  },
  {
   "cell_type": "code",
   "execution_count": 114,
   "id": "97e09b0a",
   "metadata": {},
   "outputs": [
    {
     "data": {
      "application/vnd.jupyter.widget-view+json": {
       "model_id": "33830de4857242dbbd90640c61e2a7ed",
       "version_major": 2,
       "version_minor": 0
      },
      "text/plain": [
       "Builder(reaction_data={'[]': 20, 'rid': 'vres', 'AGPAT1_1': 0.004267958000371309, 'ALDD20x': 0.000235503995763…"
      ]
     },
     "metadata": {},
     "output_type": "display_data"
    }
   ],
   "source": [
    "builder_vres"
   ]
  },
  {
   "cell_type": "code",
   "execution_count": 115,
   "id": "f63e7e84",
   "metadata": {},
   "outputs": [],
   "source": [
    "# PREFERENCIAS REACCIONES\n",
    "builder_vref.reaction_scale = [\n",
    "    { 'type': 'min', 'color': '#ffffff', 'size': 12 },\n",
    "    { 'type': 'median', 'color': '#fe9039', 'size': 20 },\n",
    "    { 'type': 'max', 'color': '#fe3939', 'size': 28 }\n",
    "]\n",
    "\n",
    "builder_vres.reaction_scale = [\n",
    "    { 'type': 'min', 'color': '#ffffff', 'size': 12 },\n",
    "    { 'type': 'median', 'color': '#fe9039', 'size': 20 },\n",
    "    { 'type': 'max', 'color': '#fe3939', 'size': 28 }\n",
    "]\n",
    "\n",
    "builder_var.reaction_scale = [\n",
    "    { 'type': 'min', 'color': '#ffffff', 'size': 12 },\n",
    "    { 'type': 'median', 'color': '#fe9039', 'size': 20 },\n",
    "    { 'type': 'max', 'color': '#fe3939', 'size': 28 }\n",
    "]"
   ]
  },
  {
   "cell_type": "code",
   "execution_count": 116,
   "id": "636fe701",
   "metadata": {},
   "outputs": [],
   "source": [
    "builder_vres.save_html('path_'+MAPA+'_'+Sufijo_output+'_vres.html')\n",
    "builder_var.save_html('path_'+MAPA+'_'+Sufijo_output+'_var.html')"
   ]
  },
  {
   "cell_type": "code",
   "execution_count": 117,
   "id": "93ef5858",
   "metadata": {},
   "outputs": [
    {
     "name": "stdout",
     "output_type": "stream",
     "text": [
      "Downloading Map from https://escher.github.io/1-0-0/6/maps/Homo%20sapiens/RECON1.Glycolysis%20TCA%20PPP.json\n",
      "Downloading Model from https://escher.github.io/1-0-0/6/models/Homo%20sapiens/RECON1.json\n",
      "Downloading Map from https://escher.github.io/1-0-0/6/maps/Homo%20sapiens/RECON1.Glycolysis%20TCA%20PPP.json\n",
      "Downloading Model from https://escher.github.io/1-0-0/6/models/Homo%20sapiens/RECON1.json\n",
      "Downloading Map from https://escher.github.io/1-0-0/6/maps/Homo%20sapiens/RECON1.Glycolysis%20TCA%20PPP.json\n",
      "Downloading Model from https://escher.github.io/1-0-0/6/models/Homo%20sapiens/RECON1.json\n"
     ]
    }
   ],
   "source": [
    "# Glycolysis TCA PPP\n",
    "MAPA='RECON1.Glycolysis TCA PPP'\n",
    "builder_vref = Builder(\n",
    "    map_name=MAPA,\n",
    "    model_name='RECON1',\n",
    ")\n",
    "builder_vres = Builder(\n",
    "    map_name=MAPA,\n",
    "    model_name='RECON1',\n",
    ")\n",
    "builder_var = Builder(\n",
    "    map_name=MAPA,\n",
    "    model_name='RECON1',\n",
    ")\n",
    "builder_vref.reaction_data=dict(zip(df_PM[Columna_reacciones_PM],df_PM[Columna_Visualizar_PM_vref]))\n",
    "builder_vres.reaction_data=dict(zip(df_PM[Columna_reacciones_PM],df_PM[Columna_Visualizar_PM_vres]))\n",
    "builder_var.reaction_data=dict(zip(df_PM[Columna_reacciones_PM],df_PM[Columna_Visualizar_PM_var]))"
   ]
  },
  {
   "cell_type": "code",
   "execution_count": 118,
   "id": "57c674a4",
   "metadata": {},
   "outputs": [
    {
     "data": {
      "application/vnd.jupyter.widget-view+json": {
       "model_id": "f857c4a80517470ea3c4a54d76a028f6",
       "version_major": 2,
       "version_minor": 0
      },
      "text/plain": [
       "Builder(reaction_data={'[]': \"['ALDD20x', 'FKYNH', 'GLUTCOADHm', '3HAO', '3MOXTYROX', 'KYN3OX', 'LFORKYNHYD', …"
      ]
     },
     "metadata": {},
     "output_type": "display_data"
    }
   ],
   "source": [
    "builder_var"
   ]
  },
  {
   "cell_type": "code",
   "execution_count": 119,
   "id": "97883497",
   "metadata": {},
   "outputs": [
    {
     "data": {
      "application/vnd.jupyter.widget-view+json": {
       "model_id": "190624f8a80045e191679a689f03f261",
       "version_major": 2,
       "version_minor": 0
      },
      "text/plain": [
       "Builder(reaction_data={'[]': 20, 'rid': 'vres', 'AGPAT1_1': 0.004267958000371309, 'ALDD20x': 0.000235503995763…"
      ]
     },
     "metadata": {},
     "output_type": "display_data"
    }
   ],
   "source": [
    "builder_vres"
   ]
  },
  {
   "cell_type": "code",
   "execution_count": 120,
   "id": "54195469",
   "metadata": {},
   "outputs": [],
   "source": [
    "# PREFERENCIAS REACCIONES\n",
    "builder_vref.reaction_scale = [\n",
    "    { 'type': 'min', 'color': '#ffffff', 'size': 12 },\n",
    "    { 'type': 'median', 'color': '#fe9039', 'size': 20 },\n",
    "    { 'type': 'max', 'color': '#fe3939', 'size': 28 }\n",
    "]\n",
    "\n",
    "builder_vres.reaction_scale = [\n",
    "    { 'type': 'min', 'color': '#ffffff', 'size': 12 },\n",
    "    { 'type': 'median', 'color': '#fe9039', 'size': 20 },\n",
    "    { 'type': 'max', 'color': '#fe3939', 'size': 28 }\n",
    "]\n",
    "\n",
    "builder_var.reaction_scale = [\n",
    "    { 'type': 'min', 'color': '#ffffff', 'size': 12 },\n",
    "    { 'type': 'median', 'color': '#fe9039', 'size': 20 },\n",
    "    { 'type': 'max', 'color': '#fe3939', 'size': 28 }\n",
    "]"
   ]
  },
  {
   "cell_type": "code",
   "execution_count": 121,
   "id": "80521360",
   "metadata": {},
   "outputs": [],
   "source": [
    "builder_vres.save_html('path_'+MAPA+'_'+Sufijo_output+'_vres.html')\n",
    "builder_var.save_html('path_'+MAPA+'_'+Sufijo_output+'_var.html')"
   ]
  },
  {
   "cell_type": "code",
   "execution_count": 122,
   "id": "56f70f86",
   "metadata": {},
   "outputs": [
    {
     "name": "stdout",
     "output_type": "stream",
     "text": [
      "Downloading Map from https://escher.github.io/1-0-0/6/maps/Homo%20sapiens/RECON1.Tryptophan%20metabolism.json\n",
      "Downloading Model from https://escher.github.io/1-0-0/6/models/Homo%20sapiens/RECON1.json\n",
      "Downloading Map from https://escher.github.io/1-0-0/6/maps/Homo%20sapiens/RECON1.Tryptophan%20metabolism.json\n",
      "Downloading Model from https://escher.github.io/1-0-0/6/models/Homo%20sapiens/RECON1.json\n",
      "Downloading Map from https://escher.github.io/1-0-0/6/maps/Homo%20sapiens/RECON1.Tryptophan%20metabolism.json\n",
      "Downloading Model from https://escher.github.io/1-0-0/6/models/Homo%20sapiens/RECON1.json\n"
     ]
    }
   ],
   "source": [
    "# Tryptophan metabolism\n",
    "MAPA='RECON1.Tryptophan metabolism'\n",
    "builder_vref = Builder(\n",
    "    map_name=MAPA,\n",
    "    model_name='RECON1',\n",
    ")\n",
    "builder_vres = Builder(\n",
    "    map_name=MAPA,\n",
    "    model_name='RECON1',\n",
    ")\n",
    "builder_var = Builder(\n",
    "    map_name=MAPA,\n",
    "    model_name='RECON1',\n",
    ")\n",
    "builder_vref.reaction_data=dict(zip(df_PM[Columna_reacciones_PM],df_PM[Columna_Visualizar_PM_vref]))\n",
    "builder_vres.reaction_data=dict(zip(df_PM[Columna_reacciones_PM],df_PM[Columna_Visualizar_PM_vres]))\n",
    "builder_var.reaction_data=dict(zip(df_PM[Columna_reacciones_PM],df_PM[Columna_Visualizar_PM_var]))"
   ]
  },
  {
   "cell_type": "code",
   "execution_count": 123,
   "id": "2fd7cc56",
   "metadata": {},
   "outputs": [
    {
     "data": {
      "application/vnd.jupyter.widget-view+json": {
       "model_id": "90e604ce39df4ffbb05f06ef743bbb83",
       "version_major": 2,
       "version_minor": 0
      },
      "text/plain": [
       "Builder(reaction_data={'[]': \"['ALDD20x', 'FKYNH', 'GLUTCOADHm', '3HAO', '3MOXTYROX', 'KYN3OX', 'LFORKYNHYD', …"
      ]
     },
     "metadata": {},
     "output_type": "display_data"
    }
   ],
   "source": [
    "builder_var"
   ]
  },
  {
   "cell_type": "code",
   "execution_count": 124,
   "id": "8754d1e3",
   "metadata": {},
   "outputs": [
    {
     "data": {
      "application/vnd.jupyter.widget-view+json": {
       "model_id": "5dd8150810584f95aedfc5601fcce818",
       "version_major": 2,
       "version_minor": 0
      },
      "text/plain": [
       "Builder(reaction_data={'[]': 20, 'rid': 'vres', 'AGPAT1_1': 0.004267958000371309, 'ALDD20x': 0.000235503995763…"
      ]
     },
     "metadata": {},
     "output_type": "display_data"
    }
   ],
   "source": [
    "builder_vres"
   ]
  },
  {
   "cell_type": "code",
   "execution_count": 125,
   "id": "7cd21869",
   "metadata": {},
   "outputs": [],
   "source": [
    "# PREFERENCIAS REACCIONES\n",
    "builder_vref.reaction_scale = [\n",
    "    { 'type': 'min', 'color': '#ffffff', 'size': 12 },\n",
    "    { 'type': 'median', 'color': '#fe9039', 'size': 20 },\n",
    "    { 'type': 'max', 'color': '#fe3939', 'size': 28 }\n",
    "]\n",
    "\n",
    "builder_vres.reaction_scale = [\n",
    "    { 'type': 'min', 'color': '#ffffff', 'size': 12 },\n",
    "    { 'type': 'median', 'color': '#fe9039', 'size': 20 },\n",
    "    { 'type': 'max', 'color': '#fe3939', 'size': 28 }\n",
    "]\n",
    "\n",
    "builder_var.reaction_scale = [\n",
    "    { 'type': 'min', 'color': '#ffffff', 'size': 12 },\n",
    "    { 'type': 'median', 'color': '#fe9039', 'size': 20 },\n",
    "    { 'type': 'max', 'color': '#fe3939', 'size': 28 }\n",
    "]"
   ]
  },
  {
   "cell_type": "code",
   "execution_count": 126,
   "id": "b15d63e7",
   "metadata": {},
   "outputs": [],
   "source": [
    "builder_vres.save_html('path_'+MAPA+'_'+Sufijo_output+'_vres.html')\n",
    "builder_var.save_html('path_'+MAPA+'_'+Sufijo_output+'_var.html')"
   ]
  },
  {
   "cell_type": "code",
   "execution_count": 127,
   "id": "50b06519",
   "metadata": {},
   "outputs": [
    {
     "name": "stdout",
     "output_type": "stream",
     "text": [
      "Downloading Map from https://escher.github.io/1-0-0/6/maps/Homo%20sapiens/RECON1.Amino%20acid%20metabolism%20%28partial%29.json\n",
      "Downloading Model from https://escher.github.io/1-0-0/6/models/Homo%20sapiens/RECON1.json\n",
      "Downloading Map from https://escher.github.io/1-0-0/6/maps/Homo%20sapiens/RECON1.Amino%20acid%20metabolism%20%28partial%29.json\n",
      "Downloading Model from https://escher.github.io/1-0-0/6/models/Homo%20sapiens/RECON1.json\n",
      "Downloading Map from https://escher.github.io/1-0-0/6/maps/Homo%20sapiens/RECON1.Amino%20acid%20metabolism%20%28partial%29.json\n",
      "Downloading Model from https://escher.github.io/1-0-0/6/models/Homo%20sapiens/RECON1.json\n"
     ]
    }
   ],
   "source": [
    "# Amino acid metabolism\n",
    "MAPA='RECON1.Amino acid metabolism (partial)'\n",
    "builder_vref = Builder(\n",
    "    map_name=MAPA,\n",
    "    model_name='RECON1',\n",
    ")\n",
    "builder_vres = Builder(\n",
    "    map_name=MAPA,\n",
    "    model_name='RECON1',\n",
    ")\n",
    "builder_var = Builder(\n",
    "    map_name=MAPA,\n",
    "    model_name='RECON1',\n",
    ")\n",
    "builder_vref.reaction_data=dict(zip(df_PM[Columna_reacciones_PM],df_PM[Columna_Visualizar_PM_vref]))\n",
    "builder_vres.reaction_data=dict(zip(df_PM[Columna_reacciones_PM],df_PM[Columna_Visualizar_PM_vres]))\n",
    "builder_var.reaction_data=dict(zip(df_PM[Columna_reacciones_PM],df_PM[Columna_Visualizar_PM_var]))"
   ]
  },
  {
   "cell_type": "code",
   "execution_count": 128,
   "id": "2743d17d",
   "metadata": {},
   "outputs": [
    {
     "data": {
      "application/vnd.jupyter.widget-view+json": {
       "model_id": "23dfb83b4614440ab2e8b7058d2e2f69",
       "version_major": 2,
       "version_minor": 0
      },
      "text/plain": [
       "Builder(reaction_data={'[]': \"['ALDD20x', 'FKYNH', 'GLUTCOADHm', '3HAO', '3MOXTYROX', 'KYN3OX', 'LFORKYNHYD', …"
      ]
     },
     "metadata": {},
     "output_type": "display_data"
    }
   ],
   "source": [
    "builder_var"
   ]
  },
  {
   "cell_type": "code",
   "execution_count": 129,
   "id": "a8e37fa5",
   "metadata": {},
   "outputs": [
    {
     "data": {
      "application/vnd.jupyter.widget-view+json": {
       "model_id": "9e4e081885c2440596dbc1a991d734a9",
       "version_major": 2,
       "version_minor": 0
      },
      "text/plain": [
       "Builder(reaction_data={'[]': 20, 'rid': 'vres', 'AGPAT1_1': 0.004267958000371309, 'ALDD20x': 0.000235503995763…"
      ]
     },
     "metadata": {},
     "output_type": "display_data"
    }
   ],
   "source": [
    "builder_vres"
   ]
  },
  {
   "cell_type": "code",
   "execution_count": 130,
   "id": "569084f3",
   "metadata": {},
   "outputs": [],
   "source": [
    "# PREFERENCIAS REACCIONES\n",
    "builder_vref.reaction_scale = [\n",
    "    { 'type': 'min', 'color': '#ffffff', 'size': 12 },\n",
    "    { 'type': 'median', 'color': '#fe9039', 'size': 20 },\n",
    "    { 'type': 'max', 'color': '#fe3939', 'size': 28 }\n",
    "]\n",
    "\n",
    "builder_vres.reaction_scale = [\n",
    "    { 'type': 'min', 'color': '#ffffff', 'size': 12 },\n",
    "    { 'type': 'median', 'color': '#fe9039', 'size': 20 },\n",
    "    { 'type': 'max', 'color': '#fe3939', 'size': 28 }\n",
    "]\n",
    "\n",
    "builder_var.reaction_scale = [\n",
    "    { 'type': 'min', 'color': '#ffffff', 'size': 12 },\n",
    "    { 'type': 'median', 'color': '#fe9039', 'size': 20 },\n",
    "    { 'type': 'max', 'color': '#fe3939', 'size': 28 }\n",
    "]"
   ]
  },
  {
   "cell_type": "code",
   "execution_count": 131,
   "id": "1a7fb5d3",
   "metadata": {},
   "outputs": [],
   "source": [
    "builder_vres.save_html('path_'+MAPA+'_'+Sufijo_output+'_vres.html')\n",
    "builder_var.save_html('path_'+MAPA+'_'+Sufijo_output+'_var.html')"
   ]
  },
  {
   "cell_type": "code",
   "execution_count": 132,
   "id": "931c2cc9",
   "metadata": {},
   "outputs": [
    {
     "name": "stdout",
     "output_type": "stream",
     "text": [
      "Downloading Map from https://escher.github.io/1-0-0/6/maps/Homo%20sapiens/RECON1.Inositol%20retinol%20metabolism.json\n",
      "Downloading Model from https://escher.github.io/1-0-0/6/models/Homo%20sapiens/RECON1.json\n",
      "Downloading Map from https://escher.github.io/1-0-0/6/maps/Homo%20sapiens/RECON1.Inositol%20retinol%20metabolism.json\n",
      "Downloading Model from https://escher.github.io/1-0-0/6/models/Homo%20sapiens/RECON1.json\n",
      "Downloading Map from https://escher.github.io/1-0-0/6/maps/Homo%20sapiens/RECON1.Inositol%20retinol%20metabolism.json\n",
      "Downloading Model from https://escher.github.io/1-0-0/6/models/Homo%20sapiens/RECON1.json\n"
     ]
    }
   ],
   "source": [
    "# Retinol inositol metabolism\n",
    "MAPA='RECON1.Inositol retinol metabolism'\n",
    "builder_vref = Builder(\n",
    "    map_name=MAPA,\n",
    "    model_name='RECON1',\n",
    ")\n",
    "builder_vres = Builder(\n",
    "    map_name=MAPA,\n",
    "    model_name='RECON1',\n",
    ")\n",
    "builder_var = Builder(\n",
    "    map_name=MAPA,\n",
    "    model_name='RECON1',\n",
    ")\n",
    "builder_vref.reaction_data=dict(zip(df_PM[Columna_reacciones_PM],df_PM[Columna_Visualizar_PM_vref]))\n",
    "builder_vres.reaction_data=dict(zip(df_PM[Columna_reacciones_PM],df_PM[Columna_Visualizar_PM_vres]))\n",
    "builder_var.reaction_data=dict(zip(df_PM[Columna_reacciones_PM],df_PM[Columna_Visualizar_PM_var]))"
   ]
  },
  {
   "cell_type": "code",
   "execution_count": 133,
   "id": "145e9c14",
   "metadata": {},
   "outputs": [
    {
     "data": {
      "application/vnd.jupyter.widget-view+json": {
       "model_id": "2106fa1ca10a4ecba16a5fc2339ea845",
       "version_major": 2,
       "version_minor": 0
      },
      "text/plain": [
       "Builder(reaction_data={'[]': \"['ALDD20x', 'FKYNH', 'GLUTCOADHm', '3HAO', '3MOXTYROX', 'KYN3OX', 'LFORKYNHYD', …"
      ]
     },
     "metadata": {},
     "output_type": "display_data"
    }
   ],
   "source": [
    "builder_var"
   ]
  },
  {
   "cell_type": "code",
   "execution_count": 134,
   "id": "d49b4160",
   "metadata": {},
   "outputs": [
    {
     "data": {
      "application/vnd.jupyter.widget-view+json": {
       "model_id": "88f55e7c4b92499383c6a2c1e08de70c",
       "version_major": 2,
       "version_minor": 0
      },
      "text/plain": [
       "Builder(reaction_data={'[]': 20, 'rid': 'vres', 'AGPAT1_1': 0.004267958000371309, 'ALDD20x': 0.000235503995763…"
      ]
     },
     "metadata": {},
     "output_type": "display_data"
    }
   ],
   "source": [
    "builder_vres"
   ]
  },
  {
   "cell_type": "code",
   "execution_count": 135,
   "id": "bde16e78",
   "metadata": {},
   "outputs": [],
   "source": [
    "# PREFERENCIAS REACCIONES\n",
    "builder_vref.reaction_scale = [\n",
    "    { 'type': 'min', 'color': '#ffffff', 'size': 12 },\n",
    "    { 'type': 'median', 'color': '#fe9039', 'size': 20 },\n",
    "    { 'type': 'max', 'color': '#fe3939', 'size': 28 }\n",
    "]\n",
    "\n",
    "builder_vres.reaction_scale = [\n",
    "    { 'type': 'min', 'color': '#ffffff', 'size': 12 },\n",
    "    { 'type': 'median', 'color': '#fe9039', 'size': 20 },\n",
    "    { 'type': 'max', 'color': '#fe3939', 'size': 28 }\n",
    "]\n",
    "\n",
    "builder_var.reaction_scale = [\n",
    "    { 'type': 'min', 'color': '#ffffff', 'size': 12 },\n",
    "    { 'type': 'median', 'color': '#fe9039', 'size': 20 },\n",
    "    { 'type': 'max', 'color': '#fe3939', 'size': 28 }\n",
    "]"
   ]
  },
  {
   "cell_type": "code",
   "execution_count": 136,
   "id": "f78e6f9c",
   "metadata": {},
   "outputs": [],
   "source": [
    "builder_vres.save_html('path_'+MAPA+'_'+Sufijo_output+'_vres.html')\n",
    "builder_var.save_html('path_'+MAPA+'_'+Sufijo_output+'_var.html')"
   ]
  },
  {
   "cell_type": "markdown",
   "id": "8e00dd41",
   "metadata": {},
   "source": [
    "# Analysis Yondelis"
   ]
  },
  {
   "cell_type": "code",
   "execution_count": 137,
   "id": "f7206b71",
   "metadata": {},
   "outputs": [],
   "source": [
    "#Lectura del fichero excel\n",
    "Sufijo_output='YD'\n",
    "archivo_YD = '/home/marco/Desktop/Yondelis-PM analisis/outputs/maint0.2/outYD/3_run_qMTA/Mean_ct_YD_vs_Mean_tt_YD_qMTA.xlsx'\n",
    "Hoja_YD='Mean_ct_YD_vs_Mean_tt_YD_b'\n",
    "Columna_reacciones_YD='omited'           # En realidad es después: rid\n",
    "Columna_Visualizar_YD_vref='total_flux_vres'  # En realidad es después: vref\n",
    "Columna_Visualizar_YD_vres='n_increase'       # En realidad es después: vres\n",
    "Columna_Visualizar_YD_var='increased'       # En realidad es después: variation\n",
    "\n",
    "\n",
    "df_YD = pd.read_excel(archivo_YD, sheet_name=Hoja_YD)\n",
    "\n",
    "#df_YD.describe()"
   ]
  },
  {
   "cell_type": "code",
   "execution_count": 159,
   "id": "17fffd98",
   "metadata": {},
   "outputs": [
    {
     "name": "stdout",
     "output_type": "stream",
     "text": [
      "Downloading Map from https://escher.github.io/1-0-0/6/maps/Homo%20sapiens/RECON1.Glycolysis%20TCA%20PPP.json\n",
      "Downloading Model from https://escher.github.io/1-0-0/6/models/Homo%20sapiens/RECON1.json\n",
      "Downloading Map from https://escher.github.io/1-0-0/6/maps/Homo%20sapiens/RECON1.Glycolysis%20TCA%20PPP.json\n",
      "Downloading Model from https://escher.github.io/1-0-0/6/models/Homo%20sapiens/RECON1.json\n",
      "Downloading Map from https://escher.github.io/1-0-0/6/maps/Homo%20sapiens/RECON1.Glycolysis%20TCA%20PPP.json\n",
      "Downloading Model from https://escher.github.io/1-0-0/6/models/Homo%20sapiens/RECON1.json\n"
     ]
    }
   ],
   "source": [
    "# Glycolysis TCA PPP\n",
    "MAPA='RECON1.Glycolysis TCA PPP'\n",
    "builder_vref = Builder(\n",
    "    map_name=MAPA,\n",
    "    model_name='RECON1',\n",
    ")\n",
    "builder_vres = Builder(\n",
    "    map_name=MAPA,\n",
    "    model_name='RECON1',\n",
    ")\n",
    "builder_var = Builder(\n",
    "    map_name=MAPA,\n",
    "    model_name='RECON1',\n",
    ")\n",
    "builder_vref.reaction_data=dict(zip(df_YD[Columna_reacciones_YD],df_YD[Columna_Visualizar_YD_vref]))\n",
    "builder_vres.reaction_data=dict(zip(df_YD[Columna_reacciones_YD],df_YD[Columna_Visualizar_YD_vres]))\n",
    "builder_var.reaction_data=dict(zip(df_YD[Columna_reacciones_YD],df_YD[Columna_Visualizar_YD_var]))"
   ]
  },
  {
   "cell_type": "code",
   "execution_count": 164,
   "id": "6eb66f2d",
   "metadata": {},
   "outputs": [
    {
     "data": {
      "application/vnd.jupyter.widget-view+json": {
       "model_id": "098c41e6fbe34650a1b78108439a6082",
       "version_major": 2,
       "version_minor": 0
      },
      "text/plain": [
       "Builder(allow_building_duplicate_reactions=False, and_method_in_gene_reaction_rule='mean', cofactors=['atp', '…"
      ]
     },
     "metadata": {},
     "output_type": "display_data"
    }
   ],
   "source": [
    "builder_var"
   ]
  },
  {
   "cell_type": "code",
   "execution_count": 161,
   "id": "df0ceca0",
   "metadata": {},
   "outputs": [
    {
     "data": {
      "application/vnd.jupyter.widget-view+json": {
       "model_id": "08a84799895a44bfaba0508865b46a53",
       "version_major": 2,
       "version_minor": 0
      },
      "text/plain": [
       "Builder(reaction_data={'[]': 31, 'rid': 'vres', 'AGPAT1_1': 0.003411759317887284, 'DGAT': 0.005124210476454102…"
      ]
     },
     "metadata": {},
     "output_type": "display_data"
    }
   ],
   "source": [
    "builder_vres"
   ]
  },
  {
   "cell_type": "code",
   "execution_count": 162,
   "id": "0d03eb48",
   "metadata": {},
   "outputs": [],
   "source": [
    "# PREFERENCIAS REACCIONES\n",
    "builder_vref.reaction_scale = [\n",
    "    { 'type': 'min', 'color': '#ffffff', 'size': 12 },\n",
    "    { 'type': 'median', 'color': '#fe9039', 'size': 20 },\n",
    "    { 'type': 'max', 'color': '#fe3939', 'size': 28 }\n",
    "]\n",
    "\n",
    "builder_vres.reaction_scale = [\n",
    "    { 'type': 'min', 'color': '#ffffff', 'size': 12 },\n",
    "    { 'type': 'median', 'color': '#fe9039', 'size': 20 },\n",
    "    { 'type': 'max', 'color': '#fe3939', 'size': 28 }\n",
    "]\n",
    "\n",
    "builder_var.reaction_scale = [\n",
    "    { 'type': 'min', 'color': '#ffffff', 'size': 12 },\n",
    "    { 'type': 'median', 'color': '#fe9039', 'size': 20 },\n",
    "    { 'type': 'max', 'color': '#fe3939', 'size': 28 }\n",
    "]"
   ]
  },
  {
   "cell_type": "code",
   "execution_count": 165,
   "id": "54800b87",
   "metadata": {},
   "outputs": [],
   "source": [
    "builder_vres.save_html('path_'+MAPA+'_'+Sufijo_output+'_vres.html')\n",
    "builder_var.save_html('path_'+MAPA+'_'+Sufijo_output+'_var.html')"
   ]
  },
  {
   "cell_type": "code",
   "execution_count": 143,
   "id": "8fb6e6bb",
   "metadata": {},
   "outputs": [
    {
     "name": "stdout",
     "output_type": "stream",
     "text": [
      "Downloading Map from https://escher.github.io/1-0-0/6/maps/Homo%20sapiens/RECON1.Tryptophan%20metabolism.json\n",
      "Downloading Model from https://escher.github.io/1-0-0/6/models/Homo%20sapiens/RECON1.json\n",
      "Downloading Map from https://escher.github.io/1-0-0/6/maps/Homo%20sapiens/RECON1.Tryptophan%20metabolism.json\n",
      "Downloading Model from https://escher.github.io/1-0-0/6/models/Homo%20sapiens/RECON1.json\n",
      "Downloading Map from https://escher.github.io/1-0-0/6/maps/Homo%20sapiens/RECON1.Tryptophan%20metabolism.json\n",
      "Downloading Model from https://escher.github.io/1-0-0/6/models/Homo%20sapiens/RECON1.json\n"
     ]
    }
   ],
   "source": [
    "# Tryptophan metabolism\n",
    "MAPA='RECON1.Tryptophan metabolism'\n",
    "builder_vref = Builder(\n",
    "    map_name=MAPA,\n",
    "    model_name='RECON1',\n",
    ")\n",
    "builder_vres = Builder(\n",
    "    map_name=MAPA,\n",
    "    model_name='RECON1',\n",
    ")\n",
    "builder_var = Builder(\n",
    "    map_name=MAPA,\n",
    "    model_name='RECON1',\n",
    ")\n",
    "builder_vref.reaction_data=dict(zip(df_YD[Columna_reacciones_YD],df_YD[Columna_Visualizar_YD_vref]))\n",
    "builder_vres.reaction_data=dict(zip(df_YD[Columna_reacciones_YD],df_YD[Columna_Visualizar_YD_vres]))\n",
    "builder_var.reaction_data=dict(zip(df_YD[Columna_reacciones_YD],df_YD[Columna_Visualizar_YD_var]))"
   ]
  },
  {
   "cell_type": "code",
   "execution_count": 144,
   "id": "f652dec3",
   "metadata": {},
   "outputs": [
    {
     "data": {
      "application/vnd.jupyter.widget-view+json": {
       "model_id": "f8a58a54ae5f404393a6046307cdd742",
       "version_major": 2,
       "version_minor": 0
      },
      "text/plain": [
       "Builder(reaction_data={'[]': \"['FKYNH', 'GLUTCOADHm', '3HAO', '3HLYTCL', '3MOXTYROX', 'KYN', 'KYN3OX', 'LFORKY…"
      ]
     },
     "metadata": {},
     "output_type": "display_data"
    }
   ],
   "source": [
    "builder_var"
   ]
  },
  {
   "cell_type": "code",
   "execution_count": 145,
   "id": "0110c16e",
   "metadata": {},
   "outputs": [
    {
     "data": {
      "application/vnd.jupyter.widget-view+json": {
       "model_id": "a3a24398f380421284375f04c8e44ec3",
       "version_major": 2,
       "version_minor": 0
      },
      "text/plain": [
       "Builder(reaction_data={'[]': 31, 'rid': 'vres', 'AGPAT1_1': 0.003411759317887284, 'DGAT': 0.005124210476454102…"
      ]
     },
     "metadata": {},
     "output_type": "display_data"
    }
   ],
   "source": [
    "builder_vres"
   ]
  },
  {
   "cell_type": "code",
   "execution_count": 146,
   "id": "85136488",
   "metadata": {},
   "outputs": [],
   "source": [
    "# PREFERENCIAS REACCIONES\n",
    "builder_vref.reaction_scale = [\n",
    "    { 'type': 'min', 'color': '#ffffff', 'size': 12 },\n",
    "    { 'type': 'median', 'color': '#fe9039', 'size': 20 },\n",
    "    { 'type': 'max', 'color': '#fe3939', 'size': 28 }\n",
    "]\n",
    "\n",
    "builder_vres.reaction_scale = [\n",
    "    { 'type': 'min', 'color': '#ffffff', 'size': 12 },\n",
    "    { 'type': 'median', 'color': '#fe9039', 'size': 20 },\n",
    "    { 'type': 'max', 'color': '#fe3939', 'size': 28 }\n",
    "]\n",
    "\n",
    "builder_var.reaction_scale = [\n",
    "    { 'type': 'min', 'color': '#ffffff', 'size': 12 },\n",
    "    { 'type': 'median', 'color': '#fe9039', 'size': 20 },\n",
    "    { 'type': 'max', 'color': '#fe3939', 'size': 28 }\n",
    "]"
   ]
  },
  {
   "cell_type": "code",
   "execution_count": 148,
   "id": "238b2f22",
   "metadata": {},
   "outputs": [],
   "source": [
    "builder_vres.save_html('path_'+MAPA+'_'+Sufijo_output+'_vres.html')\n",
    "builder_var.save_html('path_'+MAPA+'_'+Sufijo_output+'_var.html')"
   ]
  },
  {
   "cell_type": "code",
   "execution_count": 149,
   "id": "0b8df0af",
   "metadata": {},
   "outputs": [
    {
     "name": "stdout",
     "output_type": "stream",
     "text": [
      "Downloading Map from https://escher.github.io/1-0-0/6/maps/Homo%20sapiens/RECON1.Amino%20acid%20metabolism%20%28partial%29.json\n",
      "Downloading Model from https://escher.github.io/1-0-0/6/models/Homo%20sapiens/RECON1.json\n",
      "Downloading Map from https://escher.github.io/1-0-0/6/maps/Homo%20sapiens/RECON1.Amino%20acid%20metabolism%20%28partial%29.json\n",
      "Downloading Model from https://escher.github.io/1-0-0/6/models/Homo%20sapiens/RECON1.json\n",
      "Downloading Map from https://escher.github.io/1-0-0/6/maps/Homo%20sapiens/RECON1.Amino%20acid%20metabolism%20%28partial%29.json\n",
      "Downloading Model from https://escher.github.io/1-0-0/6/models/Homo%20sapiens/RECON1.json\n"
     ]
    }
   ],
   "source": [
    "# Amino acid metabolism\n",
    "MAPA='RECON1.Amino acid metabolism (partial)'\n",
    "builder_vref = Builder(\n",
    "    map_name=MAPA,\n",
    "    model_name='RECON1',\n",
    ")\n",
    "builder_vres = Builder(\n",
    "    map_name=MAPA,\n",
    "    model_name='RECON1',\n",
    ")\n",
    "builder_var = Builder(\n",
    "    map_name=MAPA,\n",
    "    model_name='RECON1',\n",
    ")\n",
    "builder_vref.reaction_data=dict(zip(df_YD[Columna_reacciones_YD],df_YD[Columna_Visualizar_YD_vref]))\n",
    "builder_vres.reaction_data=dict(zip(df_YD[Columna_reacciones_YD],df_YD[Columna_Visualizar_YD_vres]))\n",
    "builder_var.reaction_data=dict(zip(df_YD[Columna_reacciones_YD],df_YD[Columna_Visualizar_YD_var]))"
   ]
  },
  {
   "cell_type": "code",
   "execution_count": 150,
   "id": "cfaac2ac",
   "metadata": {},
   "outputs": [
    {
     "data": {
      "application/vnd.jupyter.widget-view+json": {
       "model_id": "ffb8ade5e82c49318dda87a296dcf806",
       "version_major": 2,
       "version_minor": 0
      },
      "text/plain": [
       "Builder(reaction_data={'[]': \"['FKYNH', 'GLUTCOADHm', '3HAO', '3HLYTCL', '3MOXTYROX', 'KYN', 'KYN3OX', 'LFORKY…"
      ]
     },
     "metadata": {},
     "output_type": "display_data"
    }
   ],
   "source": [
    "builder_var"
   ]
  },
  {
   "cell_type": "code",
   "execution_count": 151,
   "id": "15051c11",
   "metadata": {},
   "outputs": [
    {
     "data": {
      "application/vnd.jupyter.widget-view+json": {
       "model_id": "b713d32ec70145f88184267f1e709624",
       "version_major": 2,
       "version_minor": 0
      },
      "text/plain": [
       "Builder(reaction_data={'[]': 31, 'rid': 'vres', 'AGPAT1_1': 0.003411759317887284, 'DGAT': 0.005124210476454102…"
      ]
     },
     "metadata": {},
     "output_type": "display_data"
    }
   ],
   "source": [
    "builder_vres"
   ]
  },
  {
   "cell_type": "code",
   "execution_count": 152,
   "id": "1fcec55f",
   "metadata": {},
   "outputs": [],
   "source": [
    "# PREFERENCIAS REACCIONES\n",
    "builder_vref.reaction_scale = [\n",
    "    { 'type': 'min', 'color': '#ffffff', 'size': 12 },\n",
    "    { 'type': 'median', 'color': '#fe9039', 'size': 20 },\n",
    "    { 'type': 'max', 'color': '#fe3939', 'size': 28 }\n",
    "]\n",
    "\n",
    "builder_vres.reaction_scale = [\n",
    "    { 'type': 'min', 'color': '#ffffff', 'size': 12 },\n",
    "    { 'type': 'median', 'color': '#fe9039', 'size': 20 },\n",
    "    { 'type': 'max', 'color': '#fe3939', 'size': 28 }\n",
    "]\n",
    "\n",
    "builder_var.reaction_scale = [\n",
    "    { 'type': 'min', 'color': '#ffffff', 'size': 12 },\n",
    "    { 'type': 'median', 'color': '#fe9039', 'size': 20 },\n",
    "    { 'type': 'max', 'color': '#fe3939', 'size': 28 }\n",
    "]"
   ]
  },
  {
   "cell_type": "code",
   "execution_count": 153,
   "id": "9af2085a",
   "metadata": {},
   "outputs": [],
   "source": [
    "builder_vres.save_html('path_'+MAPA+'_'+Sufijo_output+'_vres.html')\n",
    "builder_var.save_html('path_'+MAPA+'_'+Sufijo_output+'_var.html')"
   ]
  },
  {
   "cell_type": "code",
   "execution_count": 154,
   "id": "cb1ca349",
   "metadata": {},
   "outputs": [
    {
     "name": "stdout",
     "output_type": "stream",
     "text": [
      "Downloading Map from https://escher.github.io/1-0-0/6/maps/Homo%20sapiens/RECON1.Inositol%20retinol%20metabolism.json\n",
      "Downloading Model from https://escher.github.io/1-0-0/6/models/Homo%20sapiens/RECON1.json\n",
      "Downloading Map from https://escher.github.io/1-0-0/6/maps/Homo%20sapiens/RECON1.Inositol%20retinol%20metabolism.json\n",
      "Downloading Model from https://escher.github.io/1-0-0/6/models/Homo%20sapiens/RECON1.json\n",
      "Downloading Map from https://escher.github.io/1-0-0/6/maps/Homo%20sapiens/RECON1.Inositol%20retinol%20metabolism.json\n",
      "Downloading Model from https://escher.github.io/1-0-0/6/models/Homo%20sapiens/RECON1.json\n"
     ]
    }
   ],
   "source": [
    "# Retinol inositol metabolism\n",
    "MAPA='RECON1.Inositol retinol metabolism'\n",
    "builder_vref = Builder(\n",
    "    map_name=MAPA,\n",
    "    model_name='RECON1',\n",
    ")\n",
    "builder_vres = Builder(\n",
    "    map_name=MAPA,\n",
    "    model_name='RECON1',\n",
    ")\n",
    "builder_var = Builder(\n",
    "    map_name=MAPA,\n",
    "    model_name='RECON1',\n",
    ")\n",
    "builder_vref.reaction_data=dict(zip(df_YD[Columna_reacciones_YD],df_YD[Columna_Visualizar_YD_vref]))\n",
    "builder_vres.reaction_data=dict(zip(df_YD[Columna_reacciones_YD],df_YD[Columna_Visualizar_YD_vres]))\n",
    "builder_var.reaction_data=dict(zip(df_YD[Columna_reacciones_YD],df_YD[Columna_Visualizar_YD_var]))"
   ]
  },
  {
   "cell_type": "code",
   "execution_count": 155,
   "id": "2bb27def",
   "metadata": {},
   "outputs": [
    {
     "data": {
      "application/vnd.jupyter.widget-view+json": {
       "model_id": "49e1537901f44fcdafdb2fb91c594b43",
       "version_major": 2,
       "version_minor": 0
      },
      "text/plain": [
       "Builder(reaction_data={'[]': \"['FKYNH', 'GLUTCOADHm', '3HAO', '3HLYTCL', '3MOXTYROX', 'KYN', 'KYN3OX', 'LFORKY…"
      ]
     },
     "metadata": {},
     "output_type": "display_data"
    }
   ],
   "source": [
    "builder_var"
   ]
  },
  {
   "cell_type": "code",
   "execution_count": 156,
   "id": "583a8670",
   "metadata": {},
   "outputs": [
    {
     "data": {
      "application/vnd.jupyter.widget-view+json": {
       "model_id": "bfb581ef1cae43e3bea8d146062ef279",
       "version_major": 2,
       "version_minor": 0
      },
      "text/plain": [
       "Builder(reaction_data={'[]': 31, 'rid': 'vres', 'AGPAT1_1': 0.003411759317887284, 'DGAT': 0.005124210476454102…"
      ]
     },
     "metadata": {},
     "output_type": "display_data"
    }
   ],
   "source": [
    "builder_vres"
   ]
  },
  {
   "cell_type": "code",
   "execution_count": 157,
   "id": "d231e4f7",
   "metadata": {},
   "outputs": [],
   "source": [
    "# PREFERENCIAS REACCIONES\n",
    "builder_vref.reaction_scale = [\n",
    "    { 'type': 'min', 'color': '#ffffff', 'size': 12 },\n",
    "    { 'type': 'median', 'color': '#fe9039', 'size': 20 },\n",
    "    { 'type': 'max', 'color': '#fe3939', 'size': 28 }\n",
    "]\n",
    "\n",
    "builder_vres.reaction_scale = [\n",
    "    { 'type': 'min', 'color': '#ffffff', 'size': 12 },\n",
    "    { 'type': 'median', 'color': '#fe9039', 'size': 20 },\n",
    "    { 'type': 'max', 'color': '#fe3939', 'size': 28 }\n",
    "]\n",
    "\n",
    "builder_var.reaction_scale = [\n",
    "    { 'type': 'min', 'color': '#ffffff', 'size': 12 },\n",
    "    { 'type': 'median', 'color': '#fe9039', 'size': 20 },\n",
    "    { 'type': 'max', 'color': '#fe3939', 'size': 28 }\n",
    "]"
   ]
  },
  {
   "cell_type": "code",
   "execution_count": 158,
   "id": "602f3ab4",
   "metadata": {},
   "outputs": [],
   "source": [
    "builder_vres.save_html('path_'+MAPA+'_'+Sufijo_output+'_vres.html')\n",
    "builder_var.save_html('path_'+MAPA+'_'+Sufijo_output+'_var.html')"
   ]
  }
 ],
 "metadata": {
  "kernelspec": {
   "display_name": "Python 3",
   "language": "python",
   "name": "python3"
  },
  "language_info": {
   "codemirror_mode": {
    "name": "ipython",
    "version": 3
   },
   "file_extension": ".py",
   "mimetype": "text/x-python",
   "name": "python",
   "nbconvert_exporter": "python",
   "pygments_lexer": "ipython3",
   "version": "3.8.8"
  }
 },
 "nbformat": 4,
 "nbformat_minor": 5
}
